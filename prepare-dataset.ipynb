{
 "cells": [
  {
   "cell_type": "code",
   "execution_count": 1,
   "id": "631d3809",
   "metadata": {
    "execution": {
     "iopub.execute_input": "2022-07-07T11:12:54.156685Z",
     "iopub.status.busy": "2022-07-07T11:12:54.156177Z",
     "iopub.status.idle": "2022-07-07T11:12:54.168792Z",
     "shell.execute_reply": "2022-07-07T11:12:54.167713Z"
    },
    "papermill": {
     "duration": 0.021384,
     "end_time": "2022-07-07T11:12:54.171532",
     "exception": false,
     "start_time": "2022-07-07T11:12:54.150148",
     "status": "completed"
    },
    "tags": []
   },
   "outputs": [],
   "source": [
    "import os\n",
    "import sys\n",
    "import pandas as pd\n",
    "from tqdm import tqdm"
   ]
  },
  {
   "cell_type": "code",
   "execution_count": 2,
   "id": "daff6c7a",
   "metadata": {
    "execution": {
     "iopub.execute_input": "2022-07-07T11:12:54.181094Z",
     "iopub.status.busy": "2022-07-07T11:12:54.180644Z",
     "iopub.status.idle": "2022-07-07T11:12:58.362644Z",
     "shell.execute_reply": "2022-07-07T11:12:58.361434Z"
    },
    "papermill": {
     "duration": 4.189856,
     "end_time": "2022-07-07T11:12:58.365161",
     "exception": false,
     "start_time": "2022-07-07T11:12:54.175305",
     "status": "completed"
    },
    "tags": []
   },
   "outputs": [],
   "source": [
    "df = pd.read_csv('../input/twnertc/TWNERTC.csv')"
   ]
  },
  {
   "cell_type": "code",
   "execution_count": 3,
   "id": "e41f38f6",
   "metadata": {
    "execution": {
     "iopub.execute_input": "2022-07-07T11:12:58.373847Z",
     "iopub.status.busy": "2022-07-07T11:12:58.373444Z",
     "iopub.status.idle": "2022-07-07T11:12:58.394467Z",
     "shell.execute_reply": "2022-07-07T11:12:58.393154Z"
    },
    "papermill": {
     "duration": 0.028905,
     "end_time": "2022-07-07T11:12:58.397580",
     "exception": false,
     "start_time": "2022-07-07T11:12:58.368675",
     "status": "completed"
    },
    "tags": []
   },
   "outputs": [
    {
     "data": {
      "text/html": [
       "<div>\n",
       "<style scoped>\n",
       "    .dataframe tbody tr th:only-of-type {\n",
       "        vertical-align: middle;\n",
       "    }\n",
       "\n",
       "    .dataframe tbody tr th {\n",
       "        vertical-align: top;\n",
       "    }\n",
       "\n",
       "    .dataframe thead th {\n",
       "        text-align: right;\n",
       "    }\n",
       "</style>\n",
       "<table border=\"1\" class=\"dataframe\">\n",
       "  <thead>\n",
       "    <tr style=\"text-align: right;\">\n",
       "      <th></th>\n",
       "      <th>category</th>\n",
       "      <th>annotation</th>\n",
       "      <th>sentence</th>\n",
       "    </tr>\n",
       "  </thead>\n",
       "  <tbody>\n",
       "    <tr>\n",
       "      <th>0</th>\n",
       "      <td>government</td>\n",
       "      <td>['B-PERSON', 'I-PERSON', 'O', 'B-LOCATION', 'O...</td>\n",
       "      <td>Corina Casanova , İsviçre Federal Şansölyesidir .</td>\n",
       "    </tr>\n",
       "    <tr>\n",
       "      <th>1</th>\n",
       "      <td>government</td>\n",
       "      <td>['B-PERSON', 'I-PERSON', 'O', 'B-MISC', 'O', 'O']</td>\n",
       "      <td>Corina Casanova bir federal parlementerdir .</td>\n",
       "    </tr>\n",
       "    <tr>\n",
       "      <th>2</th>\n",
       "      <td>government</td>\n",
       "      <td>['B-ORGANIZATION', 'I-ORGANIZATION', 'I-ORGANI...</td>\n",
       "      <td>İsviçre Dışişleri Bakanlığı , İsviçre federal ...</td>\n",
       "    </tr>\n",
       "    <tr>\n",
       "      <th>3</th>\n",
       "      <td>government</td>\n",
       "      <td>['B-LOCATION', 'O', 'O', 'O', 'O', 'O']</td>\n",
       "      <td>İsviçre'nin dış ilişkilerini sürdürmekle görev...</td>\n",
       "    </tr>\n",
       "    <tr>\n",
       "      <th>4</th>\n",
       "      <td>government</td>\n",
       "      <td>['B-MISC', 'B-PERSON', 'O', 'O', 'O', 'O', 'O'...</td>\n",
       "      <td>Başbakan Milan Hoda , Südet Almanlarını yatışt...</td>\n",
       "    </tr>\n",
       "  </tbody>\n",
       "</table>\n",
       "</div>"
      ],
      "text/plain": [
       "     category                                         annotation  \\\n",
       "0  government  ['B-PERSON', 'I-PERSON', 'O', 'B-LOCATION', 'O...   \n",
       "1  government  ['B-PERSON', 'I-PERSON', 'O', 'B-MISC', 'O', 'O']   \n",
       "2  government  ['B-ORGANIZATION', 'I-ORGANIZATION', 'I-ORGANI...   \n",
       "3  government            ['B-LOCATION', 'O', 'O', 'O', 'O', 'O']   \n",
       "4  government  ['B-MISC', 'B-PERSON', 'O', 'O', 'O', 'O', 'O'...   \n",
       "\n",
       "                                            sentence  \n",
       "0  Corina Casanova , İsviçre Federal Şansölyesidir .  \n",
       "1       Corina Casanova bir federal parlementerdir .  \n",
       "2  İsviçre Dışişleri Bakanlığı , İsviçre federal ...  \n",
       "3  İsviçre'nin dış ilişkilerini sürdürmekle görev...  \n",
       "4  Başbakan Milan Hoda , Südet Almanlarını yatışt...  "
      ]
     },
     "execution_count": 3,
     "metadata": {},
     "output_type": "execute_result"
    }
   ],
   "source": [
    "df.head()"
   ]
  },
  {
   "cell_type": "code",
   "execution_count": 4,
   "id": "f67c30f0",
   "metadata": {
    "execution": {
     "iopub.execute_input": "2022-07-07T11:12:58.406884Z",
     "iopub.status.busy": "2022-07-07T11:12:58.406490Z",
     "iopub.status.idle": "2022-07-07T11:12:58.411516Z",
     "shell.execute_reply": "2022-07-07T11:12:58.410512Z"
    },
    "papermill": {
     "duration": 0.012296,
     "end_time": "2022-07-07T11:12:58.413811",
     "exception": false,
     "start_time": "2022-07-07T11:12:58.401515",
     "status": "completed"
    },
    "tags": []
   },
   "outputs": [],
   "source": [
    "os.mkdir('/kaggle/working/data/')"
   ]
  },
  {
   "cell_type": "code",
   "execution_count": 5,
   "id": "59068b4e",
   "metadata": {
    "execution": {
     "iopub.execute_input": "2022-07-07T11:12:58.423585Z",
     "iopub.status.busy": "2022-07-07T11:12:58.423160Z",
     "iopub.status.idle": "2022-07-07T17:04:28.740003Z",
     "shell.execute_reply": "2022-07-07T17:04:28.738736Z"
    },
    "papermill": {
     "duration": 21090.328586,
     "end_time": "2022-07-07T17:04:28.746312",
     "exception": false,
     "start_time": "2022-07-07T11:12:58.417726",
     "status": "completed"
    },
    "tags": []
   },
   "outputs": [
    {
     "name": "stderr",
     "output_type": "stream",
     "text": [
      "100%|██████████| 533182/533182 [5:51:30<00:00, 25.28it/s]\n"
     ]
    }
   ],
   "source": [
    "data = pd.DataFrame(columns=['sentence #', 'word', 'annotation'])\n",
    "for i, (sentence, annotations) in tqdm(enumerate(zip(df['sentence'], df['annotation'])), total=len(df)):\n",
    "    words = sentence.split()\n",
    "    annotations = annotations.replace('[', '').replace(']', '').replace(' ', '').replace('\\'', '')\n",
    "    for word, annotation in zip(words, annotations.split(',')):\n",
    "        data = data.append({\n",
    "            'sentence #': f'sentence: {i}',\n",
    "            'word': word,\n",
    "            'annotation': annotation\n",
    "        }, ignore_index=True)\n",
    "    if i % 1000 == 0 and i != 0: \n",
    "        data.to_csv(f'{i}.csv', index=False)\n",
    "        data.drop(data.index, inplace=True)"
   ]
  },
  {
   "cell_type": "code",
   "execution_count": 6,
   "id": "8473cdef",
   "metadata": {
    "execution": {
     "iopub.execute_input": "2022-07-07T17:04:51.799196Z",
     "iopub.status.busy": "2022-07-07T17:04:51.798810Z",
     "iopub.status.idle": "2022-07-07T17:04:51.812574Z",
     "shell.execute_reply": "2022-07-07T17:04:51.811420Z"
    },
    "papermill": {
     "duration": 11.521,
     "end_time": "2022-07-07T17:04:51.815165",
     "exception": false,
     "start_time": "2022-07-07T17:04:40.294165",
     "status": "completed"
    },
    "tags": []
   },
   "outputs": [],
   "source": [
    "data.to_csv('534000.csv', index=False)"
   ]
  },
  {
   "cell_type": "code",
   "execution_count": 7,
   "id": "e6b0e461",
   "metadata": {
    "execution": {
     "iopub.execute_input": "2022-07-07T17:05:14.590673Z",
     "iopub.status.busy": "2022-07-07T17:05:14.590222Z",
     "iopub.status.idle": "2022-07-07T17:05:14.595388Z",
     "shell.execute_reply": "2022-07-07T17:05:14.594433Z"
    },
    "papermill": {
     "duration": 11.644232,
     "end_time": "2022-07-07T17:05:14.597656",
     "exception": false,
     "start_time": "2022-07-07T17:05:02.953424",
     "status": "completed"
    },
    "tags": []
   },
   "outputs": [],
   "source": [
    "result = pd.DataFrame()"
   ]
  },
  {
   "cell_type": "code",
   "execution_count": 8,
   "id": "6691dbff",
   "metadata": {
    "execution": {
     "iopub.execute_input": "2022-07-07T17:05:37.303592Z",
     "iopub.status.busy": "2022-07-07T17:05:37.303172Z",
     "iopub.status.idle": "2022-07-07T17:07:55.757915Z",
     "shell.execute_reply": "2022-07-07T17:07:55.756756Z"
    },
    "papermill": {
     "duration": 154.705586,
     "end_time": "2022-07-07T17:08:00.433104",
     "exception": false,
     "start_time": "2022-07-07T17:05:25.727518",
     "status": "completed"
    },
    "tags": []
   },
   "outputs": [
    {
     "name": "stderr",
     "output_type": "stream",
     "text": [
      "100%|██████████| 534/534 [02:18<00:00,  3.86it/s]\n"
     ]
    }
   ],
   "source": [
    "for i in tqdm(range(1000, 535000, 1000)):\n",
    "    df = pd.read_csv(f'./{i}.csv')\n",
    "    result = pd.concat([result, df], ignore_index=True)"
   ]
  },
  {
   "cell_type": "code",
   "execution_count": 9,
   "id": "bb7e6c00",
   "metadata": {
    "execution": {
     "iopub.execute_input": "2022-07-07T17:08:23.311971Z",
     "iopub.status.busy": "2022-07-07T17:08:23.311550Z",
     "iopub.status.idle": "2022-07-07T17:08:46.482813Z",
     "shell.execute_reply": "2022-07-07T17:08:46.481576Z"
    },
    "papermill": {
     "duration": 34.525985,
     "end_time": "2022-07-07T17:08:46.485757",
     "exception": false,
     "start_time": "2022-07-07T17:08:11.959772",
     "status": "completed"
    },
    "tags": []
   },
   "outputs": [],
   "source": [
    "result.to_csv('result.csv', index=False)"
   ]
  },
  {
   "cell_type": "code",
   "execution_count": null,
   "id": "faf99580",
   "metadata": {
    "papermill": {
     "duration": 11.637962,
     "end_time": "2022-07-07T17:09:09.621294",
     "exception": false,
     "start_time": "2022-07-07T17:08:57.983332",
     "status": "completed"
    },
    "tags": []
   },
   "outputs": [],
   "source": []
  }
 ],
 "metadata": {
  "kernelspec": {
   "display_name": "Python 3",
   "language": "python",
   "name": "python3"
  },
  "language_info": {
   "codemirror_mode": {
    "name": "ipython",
    "version": 3
   },
   "file_extension": ".py",
   "mimetype": "text/x-python",
   "name": "python",
   "nbconvert_exporter": "python",
   "pygments_lexer": "ipython3",
   "version": "3.7.12"
  },
  "papermill": {
   "default_parameters": {},
   "duration": 21400.929707,
   "end_time": "2022-07-07T17:09:24.876455",
   "environment_variables": {},
   "exception": null,
   "input_path": "__notebook__.ipynb",
   "output_path": "__notebook__.ipynb",
   "parameters": {},
   "start_time": "2022-07-07T11:12:43.946748",
   "version": "2.3.4"
  }
 },
 "nbformat": 4,
 "nbformat_minor": 5
}
